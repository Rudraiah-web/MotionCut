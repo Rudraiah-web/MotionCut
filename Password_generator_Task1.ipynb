{
 "cells": [
  {
   "cell_type": "code",
   "execution_count": 1,
   "id": "c24f5bbf-e78f-454e-a7ed-d8ddbd2d789b",
   "metadata": {},
   "outputs": [
    {
     "name": "stdout",
     "output_type": "stream",
     "text": [
      "\n",
      "======================================================\n",
      "\n"
     ]
    },
    {
     "name": "stdin",
     "output_type": "stream",
     "text": [
      "Enter the length of the password:  8\n",
      "Enter the number of passwords you want to generate:  8\n",
      "Include special characters? (yes/no):  yes\n"
     ]
    },
    {
     "name": "stdout",
     "output_type": "stream",
     "text": [
      "\n",
      "Generated Passwords:\n",
      "1. QxBXcf8#\n",
      "2. pIE76d_S\n",
      "3. 5Z&oF#77\n",
      "4. 3j=M9m0N\n",
      "5. !J3vx56=\n",
      "6. Q0^T$9wb\n",
      "7. #iQ5fi_d\n",
      "8. t*E6IgN8\n",
      "\n",
      "======================================================\n",
      "\n"
     ]
    }
   ],
   "source": [
    "import random as r\n",
    "import string\n",
    "\n",
    "def generate_password(length, number, include_special=True):\n",
    "    if length < 4:\n",
    "        raise ValueError(\"Password length must be at least 4 characters to include all character types.\")\n",
    "    \n",
    "    all_characters = string.ascii_letters + string.digits\n",
    "    if include_special:\n",
    "        all_characters += '!@#$%^&*_=+-'\n",
    "    \n",
    "    passwords = []\n",
    "    for _ in range(number):\n",
    "        password = [\n",
    "            r.choice(string.ascii_uppercase),\n",
    "            r.choice(string.ascii_lowercase),\n",
    "            r.choice(string.digits)\n",
    "        ]\n",
    "        if include_special:\n",
    "            password.append(r.choice('!@#$%^&*_=+-'))\n",
    "        \n",
    "        while len(password) < length:\n",
    "            password.append(r.choice(all_characters))\n",
    "        \n",
    "        r.shuffle(password)\n",
    "        passwords.append(''.join(password))\n",
    "    \n",
    "    return passwords\n",
    "\n",
    "def main():\n",
    "    try:\n",
    "        print(\"\\n======================================================\\n\")\n",
    "        length = int(input(\"Enter the length of the password: \"))\n",
    "        number = int(input(\"Enter the number of passwords you want to generate: \"))\n",
    "        include_special = input(\"Include special characters? (yes/no): \").strip().lower() == 'yes'\n",
    "        \n",
    "        passwords = generate_password(length, number, include_special)\n",
    "        \n",
    "        print(\"\\nGenerated Passwords:\")\n",
    "        for i, password in enumerate(passwords, 1):\n",
    "            print(f\"{i}. {password}\")\n",
    "        print(\"\\n======================================================\\n\")\n",
    "    \n",
    "    except ValueError as ve:\n",
    "        print(f\"Input error: {ve}\")\n",
    "    except Exception as e:\n",
    "        print(f\"An unexpected error occurred: {e}\")\n",
    "\n",
    "if __name__ == \"__main__\":\n",
    "    main()"
   ]
  },
  {
   "cell_type": "code",
   "execution_count": null,
   "id": "a70d2b43-ac1c-4452-9f4e-d853e5b760c8",
   "metadata": {},
   "outputs": [],
   "source": []
  }
 ],
 "metadata": {
  "kernelspec": {
   "display_name": "Python 3 (ipykernel)",
   "language": "python",
   "name": "python3"
  },
  "language_info": {
   "codemirror_mode": {
    "name": "ipython",
    "version": 3
   },
   "file_extension": ".py",
   "mimetype": "text/x-python",
   "name": "python",
   "nbconvert_exporter": "python",
   "pygments_lexer": "ipython3",
   "version": "3.12.4"
  }
 },
 "nbformat": 4,
 "nbformat_minor": 5
}
